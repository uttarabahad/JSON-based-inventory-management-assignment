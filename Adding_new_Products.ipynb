{
  "nbformat": 4,
  "nbformat_minor": 0,
  "metadata": {
    "colab": {
      "name": "Adding_new_Products.ipynb",
      "provenance": []
    },
    "kernelspec": {
      "name": "python3",
      "display_name": "Python 3"
    },
    "language_info": {
      "name": "python"
    }
  },
  "cells": [
    {
      "cell_type": "markdown",
      "metadata": {
        "id": "kdUdN-Ew9rFX"
      },
      "source": [
        "**AIM:-Add 30 products to the inventory with 5 attributes each**"
      ]
    },
    {
      "cell_type": "code",
      "metadata": {
        "id": "5E-56YmeU_g7"
      },
      "source": [
        "import json\n",
        "\n",
        "fd = open(\"record.json\",'r')\n",
        "r = fd.read()\n",
        "fd.close()\n",
        "\n",
        "record = json.loads(r)"
      ],
      "execution_count": 5,
      "outputs": []
    },
    {
      "cell_type": "markdown",
      "metadata": {
        "id": "M2nNoRbB929K"
      },
      "source": [
        "**Seeing the products already present.**"
      ]
    },
    {
      "cell_type": "code",
      "metadata": {
        "colab": {
          "base_uri": "https://localhost:8080/"
        },
        "id": "b1wfnfWzdVCX",
        "outputId": "f5faba1f-5019-4654-a62b-725818401358"
      },
      "source": [
        "record"
      ],
      "execution_count": 6,
      "outputs": [
        {
          "output_type": "execute_result",
          "data": {
            "text/plain": [
              "{'1001': {'cat': 'food item',\n",
              "  'name': 'Choco Cake',\n",
              "  'pr': 100,\n",
              "  'qn': 34,\n",
              "  'wt': '500 grams'},\n",
              " '1002': {'cat': 'food item',\n",
              "  'name': 'Milk Cake',\n",
              "  'pr': 800,\n",
              "  'qn': 100,\n",
              "  'wt': '200 grams'},\n",
              " '1003': {'cat': 'food item',\n",
              "  'name': 'Drink',\n",
              "  'pr': 85,\n",
              "  'qn': 100,\n",
              "  'wt': '100 grams'},\n",
              " '1004': {'cat': 'food item',\n",
              "  'name': 'Candy',\n",
              "  'pr': 5,\n",
              "  'qn': 1000,\n",
              "  'wt': '5 grams'},\n",
              " '1005': {'cat': 'Study material',\n",
              "  'name': 'Pen',\n",
              "  'pr': 20,\n",
              "  'qn': 100,\n",
              "  'wt': '500 grams'},\n",
              " '1006': {'cat': 'Electronics',\n",
              "  'name': 'Phone',\n",
              "  'pr': 50000,\n",
              "  'qn': 10,\n",
              "  'wt': '500 grams'},\n",
              " '1007': {'cat': 'Electronics',\n",
              "  'name': 'Mic',\n",
              "  'pr': 1500,\n",
              "  'qn': 0,\n",
              "  'wt': '500 grams'},\n",
              " '1008': {'cat': 'Electronics',\n",
              "  'name': 'Case',\n",
              "  'pr': 599,\n",
              "  'qn': 5,\n",
              "  'wt': '500 grams'},\n",
              " '1009': {'cat': 'Electronics',\n",
              "  'name': 'Keyboard',\n",
              "  'pr': 1999,\n",
              "  'qn': 10,\n",
              "  'wt': '500 grams'}}"
            ]
          },
          "metadata": {},
          "execution_count": 6
        }
      ]
    },
    {
      "cell_type": "markdown",
      "metadata": {
        "id": "o74O1rIY9_X8"
      },
      "source": [
        "**2)Trying to add 1 product first**"
      ]
    },
    {
      "cell_type": "code",
      "metadata": {
        "colab": {
          "base_uri": "https://localhost:8080/"
        },
        "id": "4ywJuSUTdcAN",
        "outputId": "a004eb84-cc92-44f0-a64c-fc4559efc73a"
      },
      "source": [
        "prod_id = str(input(\"Enter product id:\"))\n",
        "name = str(input(\"Enter name:\"))\n",
        "pr = int(input(\"Enter price:\"))\n",
        "qn = int(input(\"Enter quantity:\"))\n",
        "wt = str(input(\"Enter Weight:\"))\n",
        "cat= str(input(\"Enter Category of Item:\"))\n",
        "\n",
        "record[prod_id] = {'name': name, 'pr': pr, 'qn': qn, 'wt': wt, 'cat':cat}\n",
        "\n",
        "js = json.dumps(record)\n",
        "\n",
        "fd = open(\"record.json\",'w')\n",
        "fd.write(js)\n",
        "fd.close()"
      ],
      "execution_count": 7,
      "outputs": [
        {
          "name": "stdout",
          "output_type": "stream",
          "text": [
            "Enter product id:1010\n",
            "Enter name:Soup\n",
            "Enter price:30\n",
            "Enter quantity:90\n",
            "Enter Weight:100 grams\n",
            "Enter Category of Item:Food Items\n"
          ]
        }
      ]
    },
    {
      "cell_type": "markdown",
      "metadata": {
        "id": "qjBWXTvn-Hgp"
      },
      "source": [
        "**3)Seeing if the product gets successfully added or not**"
      ]
    },
    {
      "cell_type": "code",
      "metadata": {
        "colab": {
          "base_uri": "https://localhost:8080/"
        },
        "id": "c84BSueQn9pf",
        "outputId": "904b9bf2-2af2-4174-84b2-bc2d823c1c94"
      },
      "source": [
        "record"
      ],
      "execution_count": 8,
      "outputs": [
        {
          "output_type": "execute_result",
          "data": {
            "text/plain": [
              "{'1001': {'cat': 'food item',\n",
              "  'name': 'Choco Cake',\n",
              "  'pr': 100,\n",
              "  'qn': 34,\n",
              "  'wt': '500 grams'},\n",
              " '1002': {'cat': 'food item',\n",
              "  'name': 'Milk Cake',\n",
              "  'pr': 800,\n",
              "  'qn': 100,\n",
              "  'wt': '200 grams'},\n",
              " '1003': {'cat': 'food item',\n",
              "  'name': 'Drink',\n",
              "  'pr': 85,\n",
              "  'qn': 100,\n",
              "  'wt': '100 grams'},\n",
              " '1004': {'cat': 'food item',\n",
              "  'name': 'Candy',\n",
              "  'pr': 5,\n",
              "  'qn': 1000,\n",
              "  'wt': '5 grams'},\n",
              " '1005': {'cat': 'Study material',\n",
              "  'name': 'Pen',\n",
              "  'pr': 20,\n",
              "  'qn': 100,\n",
              "  'wt': '500 grams'},\n",
              " '1006': {'cat': 'Electronics',\n",
              "  'name': 'Phone',\n",
              "  'pr': 50000,\n",
              "  'qn': 10,\n",
              "  'wt': '500 grams'},\n",
              " '1007': {'cat': 'Electronics',\n",
              "  'name': 'Mic',\n",
              "  'pr': 1500,\n",
              "  'qn': 0,\n",
              "  'wt': '500 grams'},\n",
              " '1008': {'cat': 'Electronics',\n",
              "  'name': 'Case',\n",
              "  'pr': 599,\n",
              "  'qn': 5,\n",
              "  'wt': '500 grams'},\n",
              " '1009': {'cat': 'Electronics',\n",
              "  'name': 'Keyboard',\n",
              "  'pr': 1999,\n",
              "  'qn': 10,\n",
              "  'wt': '500 grams'},\n",
              " '1010': {'cat': 'Food Items',\n",
              "  'name': 'Soup',\n",
              "  'pr': 30,\n",
              "  'qn': 90,\n",
              "  'wt': '100 grams'}}"
            ]
          },
          "metadata": {},
          "execution_count": 8
        }
      ]
    },
    {
      "cell_type": "markdown",
      "metadata": {
        "id": "tP1JU2Ww1Yz8"
      },
      "source": [
        "**4)Adding remaining 20 more items**"
      ]
    },
    {
      "cell_type": "code",
      "metadata": {
        "colab": {
          "base_uri": "https://localhost:8080/"
        },
        "id": "WFi8CbpZoF3y",
        "outputId": "b2e96edf-ef07-44b6-ad60-613a7e83b3ce"
      },
      "source": [
        "for x in range(20):\n",
        "  prod_id = str(input(\"Enter product id:\"))\n",
        "  name = str(input(\"Enter name:\"))\n",
        "  pr = int(input(\"Enter price:\"))\n",
        "  qn = int(input(\"Enter quantity:\"))\n",
        "  wt = str(input(\"Enter Weight:\"))\n",
        "  cat= str(input(\"Enter Category of Item:\"))\n",
        "\n",
        "  record[prod_id] = {'name': name, 'pr': pr, 'qn': qn, 'wt': wt, 'cat':cat}\n",
        "\n",
        "  js = json.dumps(record)\n",
        "\n",
        "  fd = open(\"record.json\",'w')\n",
        "  fd.write(js)\n",
        "  fd.close()"
      ],
      "execution_count": 9,
      "outputs": [
        {
          "name": "stdout",
          "output_type": "stream",
          "text": [
            "Enter product id:1011\n",
            "Enter name:noodle\n",
            "Enter price:140\n",
            "Enter quantity:250\n",
            "Enter Weight:200 grams\n",
            "Enter Category of Item:food items\n",
            "Enter product id:1012\n",
            "Enter name:bread\n",
            "Enter price:30\n",
            "Enter quantity:250\n",
            "Enter Weight:100 grams\n",
            "Enter Category of Item:food item\n",
            "Enter product id:1013\n",
            "Enter name:crayon\n",
            "Enter price:50\n",
            "Enter quantity:10\n",
            "Enter Weight:100 grams\n",
            "Enter Category of Item:stationary\n",
            "Enter product id:1014\n",
            "Enter name:pencils\n",
            "Enter price:10\n",
            "Enter quantity:300\n",
            "Enter Weight:50 grams\n",
            "Enter Category of Item:stationery\n",
            "Enter product id:1015\n",
            "Enter name:pens\n",
            "Enter price:15\n",
            "Enter quantity:300\n",
            "Enter Weight:25 grams\n",
            "Enter Category of Item:stationery\n",
            "Enter product id:1016\n",
            "Enter name:muffins\n",
            "Enter price:80\n",
            "Enter quantity:150\n",
            "Enter Weight:80 grams\n",
            "Enter Category of Item:food items\n",
            "Enter product id:1017\n",
            "Enter name:pizza base\n",
            "Enter price:100\n",
            "Enter quantity:200\n",
            "Enter Weight:100 grams\n",
            "Enter Category of Item:food items\n",
            "Enter product id:1018\n",
            "Enter name:washing machine\n",
            "Enter price:1000\n",
            "Enter quantity:300\n",
            "Enter Weight:1000 grams\n",
            "Enter Category of Item:electronics\n",
            "Enter product id:1019\n",
            "Enter name:nail polish\n",
            "Enter price:150\n",
            "Enter quantity:200\n",
            "Enter Weight:25 grams\n",
            "Enter Category of Item:beauty items\n",
            "Enter product id:1020\n",
            "Enter name:ear ring\n",
            "Enter price:30\n",
            "Enter quantity:200\n",
            "Enter Weight:20 grams\n",
            "Enter Category of Item:beauty items\n",
            "Enter product id:1021\n",
            "Enter name:necklace\n",
            "Enter price:150\n",
            "Enter quantity:150\n",
            "Enter Weight:100 grams\n",
            "Enter Category of Item:beauty product\n",
            "Enter product id:1022\n",
            "Enter name:eraser\n",
            "Enter price:20\n",
            "Enter quantity:300\n",
            "Enter Weight:10 grams\n",
            "Enter Category of Item:stationary\n",
            "Enter product id:1023\n",
            "Enter name:notebooks\n",
            "Enter price:150\n",
            "Enter quantity:300\n",
            "Enter Weight:100 grams\n",
            "Enter Category of Item:stationary\n",
            "Enter product id:1024\n",
            "Enter name:cookie\n",
            "Enter price:30\n",
            "Enter quantity:67\n",
            "Enter Weight:20 grams\n",
            "Enter Category of Item:food items\n",
            "Enter product id:1025\n",
            "Enter name:Biscuits\n",
            "Enter price:20\n",
            "Enter quantity:45\n",
            "Enter Weight:20 grams\n",
            "Enter Category of Item:food items\n",
            "Enter product id:1026\n",
            "Enter name:rings\n",
            "Enter price:300\n",
            "Enter quantity:300\n",
            "Enter Weight:5 grams\n",
            "Enter Category of Item:beauty produts\n",
            "Enter product id:1027\n",
            "Enter name:Smart Fit Watches\n",
            "Enter price:400\n",
            "Enter quantity:200\n",
            "Enter Weight:70 grams\n",
            "Enter Category of Item:Electronics\n",
            "Enter product id:1028\n",
            "Enter name:Paint Brush Pen\n",
            "Enter price:55\n",
            "Enter quantity:400\n",
            "Enter Weight:8 grams\n",
            "Enter Category of Item:Stationary\n",
            "Enter product id:1029\n",
            "Enter name:Banana Bread\n",
            "Enter price:40\n",
            "Enter quantity:500\n",
            "Enter Weight:20 grams\n",
            "Enter Category of Item:food items\n",
            "Enter product id:1030\n",
            "Enter name:Painting Canvas\n",
            "Enter price:100\n",
            "Enter quantity:100\n",
            "Enter Weight:260 grams\n",
            "Enter Category of Item:Stationary\n"
          ]
        }
      ]
    },
    {
      "cell_type": "markdown",
      "metadata": {
        "id": "1rnxbg7B-Sw4"
      },
      "source": [
        "**5)Displaying all 30 items in present in record.json file**"
      ]
    },
    {
      "cell_type": "code",
      "metadata": {
        "colab": {
          "base_uri": "https://localhost:8080/"
        },
        "id": "zFnSFfNa9Je6",
        "outputId": "f7eec8c4-6dfe-40bf-87b6-163c691ad1d6"
      },
      "source": [
        "record"
      ],
      "execution_count": 10,
      "outputs": [
        {
          "output_type": "execute_result",
          "data": {
            "text/plain": [
              "{'1001': {'cat': 'food item',\n",
              "  'name': 'Choco Cake',\n",
              "  'pr': 100,\n",
              "  'qn': 34,\n",
              "  'wt': '500 grams'},\n",
              " '1002': {'cat': 'food item',\n",
              "  'name': 'Milk Cake',\n",
              "  'pr': 800,\n",
              "  'qn': 100,\n",
              "  'wt': '200 grams'},\n",
              " '1003': {'cat': 'food item',\n",
              "  'name': 'Drink',\n",
              "  'pr': 85,\n",
              "  'qn': 100,\n",
              "  'wt': '100 grams'},\n",
              " '1004': {'cat': 'food item',\n",
              "  'name': 'Candy',\n",
              "  'pr': 5,\n",
              "  'qn': 1000,\n",
              "  'wt': '5 grams'},\n",
              " '1005': {'cat': 'Study material',\n",
              "  'name': 'Pen',\n",
              "  'pr': 20,\n",
              "  'qn': 100,\n",
              "  'wt': '500 grams'},\n",
              " '1006': {'cat': 'Electronics',\n",
              "  'name': 'Phone',\n",
              "  'pr': 50000,\n",
              "  'qn': 10,\n",
              "  'wt': '500 grams'},\n",
              " '1007': {'cat': 'Electronics',\n",
              "  'name': 'Mic',\n",
              "  'pr': 1500,\n",
              "  'qn': 0,\n",
              "  'wt': '500 grams'},\n",
              " '1008': {'cat': 'Electronics',\n",
              "  'name': 'Case',\n",
              "  'pr': 599,\n",
              "  'qn': 5,\n",
              "  'wt': '500 grams'},\n",
              " '1009': {'cat': 'Electronics',\n",
              "  'name': 'Keyboard',\n",
              "  'pr': 1999,\n",
              "  'qn': 10,\n",
              "  'wt': '500 grams'},\n",
              " '1010': {'cat': 'Food Items',\n",
              "  'name': 'Soup',\n",
              "  'pr': 30,\n",
              "  'qn': 90,\n",
              "  'wt': '100 grams'},\n",
              " '1011': {'cat': 'food items',\n",
              "  'name': 'noodle',\n",
              "  'pr': 140,\n",
              "  'qn': 250,\n",
              "  'wt': '200 grams'},\n",
              " '1012': {'cat': 'food item',\n",
              "  'name': 'bread',\n",
              "  'pr': 30,\n",
              "  'qn': 250,\n",
              "  'wt': '100 grams'},\n",
              " '1013': {'cat': 'stationary',\n",
              "  'name': 'crayon',\n",
              "  'pr': 50,\n",
              "  'qn': 10,\n",
              "  'wt': '100 grams'},\n",
              " '1014': {'cat': 'stationery',\n",
              "  'name': 'pencils',\n",
              "  'pr': 10,\n",
              "  'qn': 300,\n",
              "  'wt': '50 grams'},\n",
              " '1015': {'cat': 'stationery',\n",
              "  'name': 'pens',\n",
              "  'pr': 15,\n",
              "  'qn': 300,\n",
              "  'wt': '25 grams'},\n",
              " '1016': {'cat': 'food items',\n",
              "  'name': 'muffins',\n",
              "  'pr': 80,\n",
              "  'qn': 150,\n",
              "  'wt': '80 grams'},\n",
              " '1017': {'cat': 'food items',\n",
              "  'name': 'pizza base',\n",
              "  'pr': 100,\n",
              "  'qn': 200,\n",
              "  'wt': '100 grams'},\n",
              " '1018': {'cat': 'electronics',\n",
              "  'name': 'washing machine',\n",
              "  'pr': 1000,\n",
              "  'qn': 300,\n",
              "  'wt': '1000 grams'},\n",
              " '1019': {'cat': 'beauty items',\n",
              "  'name': 'nail polish',\n",
              "  'pr': 150,\n",
              "  'qn': 200,\n",
              "  'wt': '25 grams'},\n",
              " '1020': {'cat': 'beauty items',\n",
              "  'name': 'ear ring',\n",
              "  'pr': 30,\n",
              "  'qn': 200,\n",
              "  'wt': '20 grams'},\n",
              " '1021': {'cat': 'beauty product',\n",
              "  'name': 'necklace',\n",
              "  'pr': 150,\n",
              "  'qn': 150,\n",
              "  'wt': '100 grams'},\n",
              " '1022': {'cat': 'stationary',\n",
              "  'name': 'eraser',\n",
              "  'pr': 20,\n",
              "  'qn': 300,\n",
              "  'wt': '10 grams'},\n",
              " '1023': {'cat': 'stationary',\n",
              "  'name': 'notebooks',\n",
              "  'pr': 150,\n",
              "  'qn': 300,\n",
              "  'wt': '100 grams'},\n",
              " '1024': {'cat': 'food items',\n",
              "  'name': 'cookie',\n",
              "  'pr': 30,\n",
              "  'qn': 67,\n",
              "  'wt': '20 grams'},\n",
              " '1025': {'cat': 'food items',\n",
              "  'name': 'Biscuits',\n",
              "  'pr': 20,\n",
              "  'qn': 45,\n",
              "  'wt': '20 grams'},\n",
              " '1026': {'cat': 'beauty produts',\n",
              "  'name': 'rings',\n",
              "  'pr': 300,\n",
              "  'qn': 300,\n",
              "  'wt': '5 grams'},\n",
              " '1027': {'cat': 'Electronics',\n",
              "  'name': 'Smart Fit Watches',\n",
              "  'pr': 400,\n",
              "  'qn': 200,\n",
              "  'wt': '70 grams'},\n",
              " '1028': {'cat': 'Stationary',\n",
              "  'name': 'Paint Brush Pen',\n",
              "  'pr': 55,\n",
              "  'qn': 400,\n",
              "  'wt': '8 grams'},\n",
              " '1029': {'cat': 'food items',\n",
              "  'name': 'Banana Bread',\n",
              "  'pr': 40,\n",
              "  'qn': 500,\n",
              "  'wt': '20 grams'},\n",
              " '1030': {'cat': 'Stationary',\n",
              "  'name': 'Painting Canvas',\n",
              "  'pr': 100,\n",
              "  'qn': 100,\n",
              "  'wt': '260 grams'}}"
            ]
          },
          "metadata": {},
          "execution_count": 10
        }
      ]
    }
  ]
}