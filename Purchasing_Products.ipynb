{
  "nbformat": 4,
  "nbformat_minor": 0,
  "metadata": {
    "colab": {
      "name": "Purchasing_Products.ipynb",
      "provenance": []
    },
    "kernelspec": {
      "name": "python3",
      "display_name": "Python 3"
    },
    "language_info": {
      "name": "python"
    }
  },
  "cells": [
    {
      "cell_type": "markdown",
      "metadata": {
        "id": "zeVzLL_ICsFe"
      },
      "source": [
        "**Aim: To purchase items from the existing 30 items in inventory**"
      ]
    },
    {
      "cell_type": "markdown",
      "metadata": {
        "id": "THRqqSecDCU1"
      },
      "source": [
        "**1)Reading the record.json file**"
      ]
    },
    {
      "cell_type": "code",
      "metadata": {
        "id": "OVRr5b8v_4LW"
      },
      "source": [
        "import json\n",
        "\n",
        "fd = open(\"record.json\",'r')\n",
        "r = fd.read()\n",
        "fd.close()\n",
        "\n",
        "records = json.loads(r)"
      ],
      "execution_count": 1,
      "outputs": []
    },
    {
      "cell_type": "code",
      "metadata": {
        "colab": {
          "base_uri": "https://localhost:8080/"
        },
        "id": "v-mWBteWAZ2K",
        "outputId": "7ad1315f-ff48-4b9d-d81e-5129e494a7b9"
      },
      "source": [
        "records"
      ],
      "execution_count": 2,
      "outputs": [
        {
          "output_type": "execute_result",
          "data": {
            "text/plain": [
              "{'1001': {'cat': 'food item',\n",
              "  'name': 'Choco Cake',\n",
              "  'pr': 100,\n",
              "  'qn': 34,\n",
              "  'wt': '500 grams'},\n",
              " '1002': {'cat': 'food item',\n",
              "  'name': 'Milk Cake',\n",
              "  'pr': 800,\n",
              "  'qn': 100,\n",
              "  'wt': '200 grams'},\n",
              " '1003': {'cat': 'food item',\n",
              "  'name': 'Drink',\n",
              "  'pr': 85,\n",
              "  'qn': 100,\n",
              "  'wt': '100 grams'},\n",
              " '1004': {'cat': 'food item',\n",
              "  'name': 'Candy',\n",
              "  'pr': 5,\n",
              "  'qn': 1000,\n",
              "  'wt': '5 grams'},\n",
              " '1005': {'cat': 'Study material',\n",
              "  'name': 'Pen',\n",
              "  'pr': 20,\n",
              "  'qn': 100,\n",
              "  'wt': '500 grams'},\n",
              " '1006': {'cat': 'Electronics',\n",
              "  'name': 'Phone',\n",
              "  'pr': 50000,\n",
              "  'qn': 10,\n",
              "  'wt': '500 grams'},\n",
              " '1007': {'cat': 'Electronics',\n",
              "  'name': 'Mic',\n",
              "  'pr': 1500,\n",
              "  'qn': 0,\n",
              "  'wt': '500 grams'},\n",
              " '1008': {'cat': 'Electronics',\n",
              "  'name': 'Case',\n",
              "  'pr': 599,\n",
              "  'qn': 5,\n",
              "  'wt': '500 grams'},\n",
              " '1009': {'cat': 'Electronics',\n",
              "  'name': 'Keyboard',\n",
              "  'pr': 1999,\n",
              "  'qn': 10,\n",
              "  'wt': '500 grams'},\n",
              " '1010': {'cat': 'Food Items',\n",
              "  'name': 'Soup',\n",
              "  'pr': 30,\n",
              "  'qn': 90,\n",
              "  'wt': '100 grams'},\n",
              " '1011': {'cat': 'food items',\n",
              "  'name': 'noodle',\n",
              "  'pr': 140,\n",
              "  'qn': 250,\n",
              "  'wt': '200 grams'},\n",
              " '1012': {'cat': 'food item',\n",
              "  'name': 'bread',\n",
              "  'pr': 30,\n",
              "  'qn': 250,\n",
              "  'wt': '100 grams'},\n",
              " '1013': {'cat': 'stationary',\n",
              "  'name': 'crayon',\n",
              "  'pr': 50,\n",
              "  'qn': 10,\n",
              "  'wt': '100 grams'},\n",
              " '1014': {'cat': 'stationery',\n",
              "  'name': 'pencils',\n",
              "  'pr': 10,\n",
              "  'qn': 300,\n",
              "  'wt': '50 grams'},\n",
              " '1015': {'cat': 'stationery',\n",
              "  'name': 'pens',\n",
              "  'pr': 15,\n",
              "  'qn': 300,\n",
              "  'wt': '25 grams'},\n",
              " '1016': {'cat': 'food items',\n",
              "  'name': 'muffins',\n",
              "  'pr': 80,\n",
              "  'qn': 150,\n",
              "  'wt': '80 grams'},\n",
              " '1017': {'cat': 'food items',\n",
              "  'name': 'pizza base',\n",
              "  'pr': 100,\n",
              "  'qn': 200,\n",
              "  'wt': '100 grams'},\n",
              " '1018': {'cat': 'electronics',\n",
              "  'name': 'washing machine',\n",
              "  'pr': 1000,\n",
              "  'qn': 300,\n",
              "  'wt': '1000 grams'},\n",
              " '1019': {'cat': 'beauty items',\n",
              "  'name': 'nail polish',\n",
              "  'pr': 150,\n",
              "  'qn': 200,\n",
              "  'wt': '25 grams'},\n",
              " '1020': {'cat': 'beauty items',\n",
              "  'name': 'ear ring',\n",
              "  'pr': 30,\n",
              "  'qn': 200,\n",
              "  'wt': '20 grams'},\n",
              " '1021': {'cat': 'beauty product',\n",
              "  'name': 'necklace',\n",
              "  'pr': 150,\n",
              "  'qn': 150,\n",
              "  'wt': '100 grams'},\n",
              " '1022': {'cat': 'stationary',\n",
              "  'name': 'eraser',\n",
              "  'pr': 20,\n",
              "  'qn': 300,\n",
              "  'wt': '10 grams'},\n",
              " '1023': {'cat': 'stationary',\n",
              "  'name': 'notebooks',\n",
              "  'pr': 150,\n",
              "  'qn': 300,\n",
              "  'wt': '100 grams'},\n",
              " '1024': {'cat': 'food items',\n",
              "  'name': 'cookie',\n",
              "  'pr': 30,\n",
              "  'qn': 67,\n",
              "  'wt': '20 grams'},\n",
              " '1025': {'cat': 'food items',\n",
              "  'name': 'Biscuits',\n",
              "  'pr': 20,\n",
              "  'qn': 45,\n",
              "  'wt': '20 grams'},\n",
              " '1026': {'cat': 'beauty produts',\n",
              "  'name': 'rings',\n",
              "  'pr': 300,\n",
              "  'qn': 300,\n",
              "  'wt': '5 grams'},\n",
              " '1027': {'cat': 'Electronics',\n",
              "  'name': 'Smart Fit Watches',\n",
              "  'pr': 400,\n",
              "  'qn': 200,\n",
              "  'wt': '70 grams'},\n",
              " '1028': {'cat': 'Stationary',\n",
              "  'name': 'Paint Brush Pen',\n",
              "  'pr': 55,\n",
              "  'qn': 400,\n",
              "  'wt': '8 grams'},\n",
              " '1029': {'cat': 'food items',\n",
              "  'name': 'Banana Bread',\n",
              "  'pr': 40,\n",
              "  'qn': 500,\n",
              "  'wt': '20 grams'},\n",
              " '1030': {'cat': 'Stationary',\n",
              "  'name': 'Painting Canvas',\n",
              "  'pr': 100,\n",
              "  'qn': 100,\n",
              "  'wt': '260 grams'}}"
            ]
          },
          "metadata": {},
          "execution_count": 2
        }
      ]
    },
    {
      "cell_type": "markdown",
      "metadata": {
        "id": "7EICW_b9DdI8"
      },
      "source": [
        "**2)Purchasing 2 phones(1006)**"
      ]
    },
    {
      "cell_type": "code",
      "metadata": {
        "colab": {
          "base_uri": "https://localhost:8080/"
        },
        "id": "KWY0JPcYAei3",
        "outputId": "937a92d8-0929-465e-fda0-d41de517eec2"
      },
      "source": [
        "ui_prod  = str(input(\"Enter the product_Id: \"))\n",
        "ui_quant = int(input(\"Enter the quantity: \"))\n",
        "\n",
        "\n",
        "print(\"Product: \", records[ui_prod]['name'])\n",
        "print(\"Price: \", records[ui_prod]['pr'])\n",
        "print(\"Billing Amount: \", records[ui_prod]['pr'] * ui_quant)\n",
        "\n",
        "records[ui_prod]['qn'] = records[ui_prod]['qn'] - ui_quant"
      ],
      "execution_count": 3,
      "outputs": [
        {
          "output_type": "stream",
          "name": "stdout",
          "text": [
            "Enter the product_Id: 1006\n",
            "Enter the quantity: 2\n",
            "Product:  Phone\n",
            "Price:  50000\n",
            "Billing Amount:  100000\n"
          ]
        }
      ]
    },
    {
      "cell_type": "markdown",
      "metadata": {
        "id": "LfRGZSc_EhiB"
      },
      "source": [
        "**2.1)Dumping the purchased quantities of phone**"
      ]
    },
    {
      "cell_type": "code",
      "metadata": {
        "id": "bkQXK_0PAqZE"
      },
      "source": [
        "js = json.dumps(records)\n",
        "\n",
        "fd = open(\"record.json\",'w')\n",
        "fd.write(js)\n",
        "fd.close()"
      ],
      "execution_count": 4,
      "outputs": []
    },
    {
      "cell_type": "code",
      "metadata": {
        "colab": {
          "base_uri": "https://localhost:8080/"
        },
        "id": "vH1UF3F2AwYu",
        "outputId": "51706d9f-121f-4b85-a576-839f002a94c5"
      },
      "source": [
        "{'prod' : ui_prod, 'qn' : ui_quant, 'amount': records[ui_prod]['pr'] * ui_quant}"
      ],
      "execution_count": 5,
      "outputs": [
        {
          "output_type": "execute_result",
          "data": {
            "text/plain": [
              "{'amount': 100000, 'prod': '1006', 'qn': 2}"
            ]
          },
          "metadata": {},
          "execution_count": 5
        }
      ]
    },
    {
      "cell_type": "code",
      "metadata": {
        "id": "w6sRjzADA0lQ"
      },
      "source": [
        "sales = {1 : {'prod' : ui_prod, 'qn' : ui_quant, 'amount': records[ui_prod]['pr'] * ui_quant},\n",
        "         2 : {'prod' : ui_prod, 'qn' : ui_quant, 'amount': records[ui_prod]['pr'] * ui_quant},\n",
        "         3 : {'prod' : ui_prod, 'qn' : ui_quant, 'amount': records[ui_prod]['pr'] * ui_quant}}"
      ],
      "execution_count": 6,
      "outputs": []
    },
    {
      "cell_type": "code",
      "metadata": {
        "id": "FZrUQjepA5BX"
      },
      "source": [
        "sale = json.dumps(sales)"
      ],
      "execution_count": 7,
      "outputs": []
    },
    {
      "cell_type": "code",
      "metadata": {
        "colab": {
          "base_uri": "https://localhost:8080/",
          "height": 52
        },
        "id": "98VL4SEqBAI6",
        "outputId": "263fabf6-df25-46f6-9ac9-7d656a63a6f3"
      },
      "source": [
        "sale"
      ],
      "execution_count": 8,
      "outputs": [
        {
          "output_type": "execute_result",
          "data": {
            "application/vnd.google.colaboratory.intrinsic+json": {
              "type": "string"
            },
            "text/plain": [
              "'{\"1\": {\"prod\": \"1006\", \"qn\": 2, \"amount\": 100000}, \"2\": {\"prod\": \"1006\", \"qn\": 2, \"amount\": 100000}, \"3\": {\"prod\": \"1006\", \"qn\": 2, \"amount\": 100000}}'"
            ]
          },
          "metadata": {},
          "execution_count": 8
        }
      ]
    },
    {
      "cell_type": "markdown",
      "metadata": {
        "id": "b23DkTcdE1EP"
      },
      "source": [
        "**2.2)Showing the updated quantity of item 1006.(From 10 to 8)**"
      ]
    },
    {
      "cell_type": "code",
      "metadata": {
        "colab": {
          "base_uri": "https://localhost:8080/"
        },
        "id": "IDUFn95nBfaK",
        "outputId": "c112f2c9-3fd5-4616-d82c-37bdde748cc2"
      },
      "source": [
        "records\n"
      ],
      "execution_count": 9,
      "outputs": [
        {
          "output_type": "execute_result",
          "data": {
            "text/plain": [
              "{'1001': {'cat': 'food item',\n",
              "  'name': 'Choco Cake',\n",
              "  'pr': 100,\n",
              "  'qn': 34,\n",
              "  'wt': '500 grams'},\n",
              " '1002': {'cat': 'food item',\n",
              "  'name': 'Milk Cake',\n",
              "  'pr': 800,\n",
              "  'qn': 100,\n",
              "  'wt': '200 grams'},\n",
              " '1003': {'cat': 'food item',\n",
              "  'name': 'Drink',\n",
              "  'pr': 85,\n",
              "  'qn': 100,\n",
              "  'wt': '100 grams'},\n",
              " '1004': {'cat': 'food item',\n",
              "  'name': 'Candy',\n",
              "  'pr': 5,\n",
              "  'qn': 1000,\n",
              "  'wt': '5 grams'},\n",
              " '1005': {'cat': 'Study material',\n",
              "  'name': 'Pen',\n",
              "  'pr': 20,\n",
              "  'qn': 100,\n",
              "  'wt': '500 grams'},\n",
              " '1006': {'cat': 'Electronics',\n",
              "  'name': 'Phone',\n",
              "  'pr': 50000,\n",
              "  'qn': 8,\n",
              "  'wt': '500 grams'},\n",
              " '1007': {'cat': 'Electronics',\n",
              "  'name': 'Mic',\n",
              "  'pr': 1500,\n",
              "  'qn': 0,\n",
              "  'wt': '500 grams'},\n",
              " '1008': {'cat': 'Electronics',\n",
              "  'name': 'Case',\n",
              "  'pr': 599,\n",
              "  'qn': 5,\n",
              "  'wt': '500 grams'},\n",
              " '1009': {'cat': 'Electronics',\n",
              "  'name': 'Keyboard',\n",
              "  'pr': 1999,\n",
              "  'qn': 10,\n",
              "  'wt': '500 grams'},\n",
              " '1010': {'cat': 'Food Items',\n",
              "  'name': 'Soup',\n",
              "  'pr': 30,\n",
              "  'qn': 90,\n",
              "  'wt': '100 grams'},\n",
              " '1011': {'cat': 'food items',\n",
              "  'name': 'noodle',\n",
              "  'pr': 140,\n",
              "  'qn': 250,\n",
              "  'wt': '200 grams'},\n",
              " '1012': {'cat': 'food item',\n",
              "  'name': 'bread',\n",
              "  'pr': 30,\n",
              "  'qn': 250,\n",
              "  'wt': '100 grams'},\n",
              " '1013': {'cat': 'stationary',\n",
              "  'name': 'crayon',\n",
              "  'pr': 50,\n",
              "  'qn': 10,\n",
              "  'wt': '100 grams'},\n",
              " '1014': {'cat': 'stationery',\n",
              "  'name': 'pencils',\n",
              "  'pr': 10,\n",
              "  'qn': 300,\n",
              "  'wt': '50 grams'},\n",
              " '1015': {'cat': 'stationery',\n",
              "  'name': 'pens',\n",
              "  'pr': 15,\n",
              "  'qn': 300,\n",
              "  'wt': '25 grams'},\n",
              " '1016': {'cat': 'food items',\n",
              "  'name': 'muffins',\n",
              "  'pr': 80,\n",
              "  'qn': 150,\n",
              "  'wt': '80 grams'},\n",
              " '1017': {'cat': 'food items',\n",
              "  'name': 'pizza base',\n",
              "  'pr': 100,\n",
              "  'qn': 200,\n",
              "  'wt': '100 grams'},\n",
              " '1018': {'cat': 'electronics',\n",
              "  'name': 'washing machine',\n",
              "  'pr': 1000,\n",
              "  'qn': 300,\n",
              "  'wt': '1000 grams'},\n",
              " '1019': {'cat': 'beauty items',\n",
              "  'name': 'nail polish',\n",
              "  'pr': 150,\n",
              "  'qn': 200,\n",
              "  'wt': '25 grams'},\n",
              " '1020': {'cat': 'beauty items',\n",
              "  'name': 'ear ring',\n",
              "  'pr': 30,\n",
              "  'qn': 200,\n",
              "  'wt': '20 grams'},\n",
              " '1021': {'cat': 'beauty product',\n",
              "  'name': 'necklace',\n",
              "  'pr': 150,\n",
              "  'qn': 150,\n",
              "  'wt': '100 grams'},\n",
              " '1022': {'cat': 'stationary',\n",
              "  'name': 'eraser',\n",
              "  'pr': 20,\n",
              "  'qn': 300,\n",
              "  'wt': '10 grams'},\n",
              " '1023': {'cat': 'stationary',\n",
              "  'name': 'notebooks',\n",
              "  'pr': 150,\n",
              "  'qn': 300,\n",
              "  'wt': '100 grams'},\n",
              " '1024': {'cat': 'food items',\n",
              "  'name': 'cookie',\n",
              "  'pr': 30,\n",
              "  'qn': 67,\n",
              "  'wt': '20 grams'},\n",
              " '1025': {'cat': 'food items',\n",
              "  'name': 'Biscuits',\n",
              "  'pr': 20,\n",
              "  'qn': 45,\n",
              "  'wt': '20 grams'},\n",
              " '1026': {'cat': 'beauty produts',\n",
              "  'name': 'rings',\n",
              "  'pr': 300,\n",
              "  'qn': 300,\n",
              "  'wt': '5 grams'},\n",
              " '1027': {'cat': 'Electronics',\n",
              "  'name': 'Smart Fit Watches',\n",
              "  'pr': 400,\n",
              "  'qn': 200,\n",
              "  'wt': '70 grams'},\n",
              " '1028': {'cat': 'Stationary',\n",
              "  'name': 'Paint Brush Pen',\n",
              "  'pr': 55,\n",
              "  'qn': 400,\n",
              "  'wt': '8 grams'},\n",
              " '1029': {'cat': 'food items',\n",
              "  'name': 'Banana Bread',\n",
              "  'pr': 40,\n",
              "  'qn': 500,\n",
              "  'wt': '20 grams'},\n",
              " '1030': {'cat': 'Stationary',\n",
              "  'name': 'Painting Canvas',\n",
              "  'pr': 100,\n",
              "  'qn': 100,\n",
              "  'wt': '260 grams'}}"
            ]
          },
          "metadata": {},
          "execution_count": 9
        }
      ]
    },
    {
      "cell_type": "markdown",
      "metadata": {
        "id": "A_DoCn6AFDny"
      },
      "source": [
        "**3)Purchasing item 1029 (Banana Bread).Quantity 2**"
      ]
    },
    {
      "cell_type": "code",
      "metadata": {
        "colab": {
          "base_uri": "https://localhost:8080/"
        },
        "id": "stUAD57HBs4G",
        "outputId": "2c3962bf-b457-47e8-caa0-aaee206883ae"
      },
      "source": [
        "ui_prod  = str(input(\"Enter the product_Id: \"))\n",
        "ui_quant = int(input(\"Enter the quantity: \"))\n",
        "\n",
        "\n",
        "print(\"Product: \", records[ui_prod]['name'])\n",
        "print(\"Price: \", records[ui_prod]['pr'])\n",
        "print(\"Billing Amount: \", records[ui_prod]['pr'] * ui_quant)\n",
        "\n",
        "records[ui_prod]['qn'] = records[ui_prod]['qn'] - ui_quant"
      ],
      "execution_count": 10,
      "outputs": [
        {
          "output_type": "stream",
          "name": "stdout",
          "text": [
            "Enter the product_Id: 1029\n",
            "Enter the quantity: 2\n",
            "Product:  Banana Bread\n",
            "Price:  40\n",
            "Billing Amount:  80\n"
          ]
        }
      ]
    },
    {
      "cell_type": "code",
      "metadata": {
        "id": "mZH-YGu1B7_5"
      },
      "source": [
        "js = json.dumps(records)\n",
        "\n",
        "fd = open(\"record.json\",'w')\n",
        "fd.write(js)\n",
        "fd.close()"
      ],
      "execution_count": 11,
      "outputs": []
    },
    {
      "cell_type": "code",
      "metadata": {
        "colab": {
          "base_uri": "https://localhost:8080/"
        },
        "id": "1zbT2ZbACAcD",
        "outputId": "06c80215-c039-4fd7-e1ac-3e8bca4e727e"
      },
      "source": [
        "{'prod' : ui_prod, 'qn' : ui_quant, 'amount': records[ui_prod]['pr'] * ui_quant}"
      ],
      "execution_count": 12,
      "outputs": [
        {
          "output_type": "execute_result",
          "data": {
            "text/plain": [
              "{'amount': 80, 'prod': '1029', 'qn': 2}"
            ]
          },
          "metadata": {},
          "execution_count": 12
        }
      ]
    },
    {
      "cell_type": "code",
      "metadata": {
        "id": "sKdd7PvoCES6"
      },
      "source": [
        "sales = {1 : {'prod' : ui_prod, 'qn' : ui_quant, 'amount': records[ui_prod]['pr'] * ui_quant},\n",
        "         2 : {'prod' : ui_prod, 'qn' : ui_quant, 'amount': records[ui_prod]['pr'] * ui_quant},\n",
        "         3 : {'prod' : ui_prod, 'qn' : ui_quant, 'amount': records[ui_prod]['pr'] * ui_quant}}"
      ],
      "execution_count": 13,
      "outputs": []
    },
    {
      "cell_type": "markdown",
      "metadata": {
        "id": "mEb_x9ITFu7P"
      },
      "source": [
        "**3.1)Upadating the new quantity of banana bread afer purchase**"
      ]
    },
    {
      "cell_type": "code",
      "metadata": {
        "id": "_ESXCYFcCIxh"
      },
      "source": [
        "sale = json.dumps(sales)"
      ],
      "execution_count": 14,
      "outputs": []
    },
    {
      "cell_type": "code",
      "metadata": {
        "colab": {
          "base_uri": "https://localhost:8080/",
          "height": 52
        },
        "id": "JaLjPuIfCMcF",
        "outputId": "2a62533b-f483-48e2-fd06-eb4bbb0ad915"
      },
      "source": [
        "sale"
      ],
      "execution_count": 15,
      "outputs": [
        {
          "output_type": "execute_result",
          "data": {
            "application/vnd.google.colaboratory.intrinsic+json": {
              "type": "string"
            },
            "text/plain": [
              "'{\"1\": {\"prod\": \"1029\", \"qn\": 2, \"amount\": 80}, \"2\": {\"prod\": \"1029\", \"qn\": 2, \"amount\": 80}, \"3\": {\"prod\": \"1029\", \"qn\": 2, \"amount\": 80}}'"
            ]
          },
          "metadata": {},
          "execution_count": 15
        }
      ]
    },
    {
      "cell_type": "markdown",
      "metadata": {
        "id": "duLKFS0dF6Fn"
      },
      "source": [
        "**3)Showing the updated quantity of item 1029 from 500 to 498**"
      ]
    },
    {
      "cell_type": "code",
      "metadata": {
        "colab": {
          "base_uri": "https://localhost:8080/"
        },
        "id": "yxQe1__WCOrV",
        "outputId": "0c68f334-3d4c-4e06-bf68-8c8de16b5c42"
      },
      "source": [
        "records"
      ],
      "execution_count": 16,
      "outputs": [
        {
          "output_type": "execute_result",
          "data": {
            "text/plain": [
              "{'1001': {'cat': 'food item',\n",
              "  'name': 'Choco Cake',\n",
              "  'pr': 100,\n",
              "  'qn': 34,\n",
              "  'wt': '500 grams'},\n",
              " '1002': {'cat': 'food item',\n",
              "  'name': 'Milk Cake',\n",
              "  'pr': 800,\n",
              "  'qn': 100,\n",
              "  'wt': '200 grams'},\n",
              " '1003': {'cat': 'food item',\n",
              "  'name': 'Drink',\n",
              "  'pr': 85,\n",
              "  'qn': 100,\n",
              "  'wt': '100 grams'},\n",
              " '1004': {'cat': 'food item',\n",
              "  'name': 'Candy',\n",
              "  'pr': 5,\n",
              "  'qn': 1000,\n",
              "  'wt': '5 grams'},\n",
              " '1005': {'cat': 'Study material',\n",
              "  'name': 'Pen',\n",
              "  'pr': 20,\n",
              "  'qn': 100,\n",
              "  'wt': '500 grams'},\n",
              " '1006': {'cat': 'Electronics',\n",
              "  'name': 'Phone',\n",
              "  'pr': 50000,\n",
              "  'qn': 8,\n",
              "  'wt': '500 grams'},\n",
              " '1007': {'cat': 'Electronics',\n",
              "  'name': 'Mic',\n",
              "  'pr': 1500,\n",
              "  'qn': 0,\n",
              "  'wt': '500 grams'},\n",
              " '1008': {'cat': 'Electronics',\n",
              "  'name': 'Case',\n",
              "  'pr': 599,\n",
              "  'qn': 5,\n",
              "  'wt': '500 grams'},\n",
              " '1009': {'cat': 'Electronics',\n",
              "  'name': 'Keyboard',\n",
              "  'pr': 1999,\n",
              "  'qn': 10,\n",
              "  'wt': '500 grams'},\n",
              " '1010': {'cat': 'Food Items',\n",
              "  'name': 'Soup',\n",
              "  'pr': 30,\n",
              "  'qn': 90,\n",
              "  'wt': '100 grams'},\n",
              " '1011': {'cat': 'food items',\n",
              "  'name': 'noodle',\n",
              "  'pr': 140,\n",
              "  'qn': 250,\n",
              "  'wt': '200 grams'},\n",
              " '1012': {'cat': 'food item',\n",
              "  'name': 'bread',\n",
              "  'pr': 30,\n",
              "  'qn': 250,\n",
              "  'wt': '100 grams'},\n",
              " '1013': {'cat': 'stationary',\n",
              "  'name': 'crayon',\n",
              "  'pr': 50,\n",
              "  'qn': 10,\n",
              "  'wt': '100 grams'},\n",
              " '1014': {'cat': 'stationery',\n",
              "  'name': 'pencils',\n",
              "  'pr': 10,\n",
              "  'qn': 300,\n",
              "  'wt': '50 grams'},\n",
              " '1015': {'cat': 'stationery',\n",
              "  'name': 'pens',\n",
              "  'pr': 15,\n",
              "  'qn': 300,\n",
              "  'wt': '25 grams'},\n",
              " '1016': {'cat': 'food items',\n",
              "  'name': 'muffins',\n",
              "  'pr': 80,\n",
              "  'qn': 150,\n",
              "  'wt': '80 grams'},\n",
              " '1017': {'cat': 'food items',\n",
              "  'name': 'pizza base',\n",
              "  'pr': 100,\n",
              "  'qn': 200,\n",
              "  'wt': '100 grams'},\n",
              " '1018': {'cat': 'electronics',\n",
              "  'name': 'washing machine',\n",
              "  'pr': 1000,\n",
              "  'qn': 300,\n",
              "  'wt': '1000 grams'},\n",
              " '1019': {'cat': 'beauty items',\n",
              "  'name': 'nail polish',\n",
              "  'pr': 150,\n",
              "  'qn': 200,\n",
              "  'wt': '25 grams'},\n",
              " '1020': {'cat': 'beauty items',\n",
              "  'name': 'ear ring',\n",
              "  'pr': 30,\n",
              "  'qn': 200,\n",
              "  'wt': '20 grams'},\n",
              " '1021': {'cat': 'beauty product',\n",
              "  'name': 'necklace',\n",
              "  'pr': 150,\n",
              "  'qn': 150,\n",
              "  'wt': '100 grams'},\n",
              " '1022': {'cat': 'stationary',\n",
              "  'name': 'eraser',\n",
              "  'pr': 20,\n",
              "  'qn': 300,\n",
              "  'wt': '10 grams'},\n",
              " '1023': {'cat': 'stationary',\n",
              "  'name': 'notebooks',\n",
              "  'pr': 150,\n",
              "  'qn': 300,\n",
              "  'wt': '100 grams'},\n",
              " '1024': {'cat': 'food items',\n",
              "  'name': 'cookie',\n",
              "  'pr': 30,\n",
              "  'qn': 67,\n",
              "  'wt': '20 grams'},\n",
              " '1025': {'cat': 'food items',\n",
              "  'name': 'Biscuits',\n",
              "  'pr': 20,\n",
              "  'qn': 45,\n",
              "  'wt': '20 grams'},\n",
              " '1026': {'cat': 'beauty produts',\n",
              "  'name': 'rings',\n",
              "  'pr': 300,\n",
              "  'qn': 300,\n",
              "  'wt': '5 grams'},\n",
              " '1027': {'cat': 'Electronics',\n",
              "  'name': 'Smart Fit Watches',\n",
              "  'pr': 400,\n",
              "  'qn': 200,\n",
              "  'wt': '70 grams'},\n",
              " '1028': {'cat': 'Stationary',\n",
              "  'name': 'Paint Brush Pen',\n",
              "  'pr': 55,\n",
              "  'qn': 400,\n",
              "  'wt': '8 grams'},\n",
              " '1029': {'cat': 'food items',\n",
              "  'name': 'Banana Bread',\n",
              "  'pr': 40,\n",
              "  'qn': 498,\n",
              "  'wt': '20 grams'},\n",
              " '1030': {'cat': 'Stationary',\n",
              "  'name': 'Painting Canvas',\n",
              "  'pr': 100,\n",
              "  'qn': 100,\n",
              "  'wt': '260 grams'}}"
            ]
          },
          "metadata": {},
          "execution_count": 16
        }
      ]
    }
  ]
}